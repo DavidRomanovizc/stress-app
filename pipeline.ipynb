{
 "cells": [
  {
   "cell_type": "markdown",
   "metadata": {
    "id": "2-R6BQAXUmCA"
   },
   "source": [
    "#  Мой психолог ИИ помоги нейросети выявить уровень стресса."
   ]
  },
  {
   "cell_type": "markdown",
   "metadata": {
    "id": "3aT35QZZUmCG"
   },
   "source": [
    "\n",
    "\n",
    "\n",
    "\n",
    "\n",
    "\n",
    "Набор данных представляет из себя зарегистрированные при помощи датчиков реакции на вопросы о факторах риска на проверках при трудоустройстве. Они размеченны специалистами по трем уровням стресса (слабый, средний, сильный).  Каждая проверка представляет из себя несколько групп вопросов, каждый из которых задается не более 4 раз. Для каждого человека была следующая структура тестирования:\n",
    "\n",
    "Группа1 Повторение1: Вопрос1, Вопрос2, ..., Вопрос12\n",
    "Группа1 Повторение2: ВопросI1, ВопросI2, ..., ВопросI12 (где I1, I2, ..., I12 - вопросы из Повторения1 в случайном порядке)\n",
    "Группа1 Повторение3: ВопросI1, ВопросI2, ..., ВопросI12 (где I1, I2, ..., I12 - вопросы из Повторения1 в случайном порядке)\n",
    "Группа2 Повторение1: Вопрос1, Вопрос2, ..., Вопрос12\n",
    "Группа2 Повторение2: ВопросI1, ВопросI2, ..., ВопросI12 (где I1, I2, ..., I12 - вопросы из Повторения2 в случайном порядке)\n",
    "Группа2 Повторение3: ВопросI1, ВопросI2, ..., ВопросI12 (где I1, I2, ..., I12 - вопросы из Повторения2 в случайном порядке)\n",
    "и так далее ...\n",
    "\n",
    "Количество групп от 1 до 7, в группах может быть от 1 до 14 вопросов. \n",
    "\n",
    "Соответственно, в наборе данных присутствуют:\n",
    "\n",
    "* `Filename` - уникальный id испытуемого.\n",
    "* `Test_index` - номер группы, нумерация с 0\n",
    "* `Presentation` - номер повторения, нумерация с 1\n",
    "* `Question` - номер вопроса, нумерация с 0\n",
    "* `Data` - равномерно зарегистрированные полиграфом 12 секунд сигнала с частотой 20 Гц (240 значений) (метка датчика регистрации сигнала - фотоплетизмограмма)\n",
    "* `Data_2` - равномерно зарегистрированные полиграфом 12 секунд сигнала с частотой 20 Гц (240 значений) (метка датчика регистрации сигнала - пьезоплетизмограмма)\n",
    "* `Class_label  Data_type` - метка класса (0 - слабый стресс, 1 - средний стресс, 2 - сильный стресс)\n",
    "\n",
    "Важное примечание: согласно методике полиграфолог при выставлении баллов оценивает реакции на вопросы при помощи попарного сравнения в рамках каждого повторения отдельно - не более 14 вопросов. Такая процедура выполняется независимо по каждой группе вопросов по каждому повторению.\n",
    "\n",
    "Нужно:\n",
    "\n",
    "1. Загрузить данные \n",
    "2. Проанализировать данные.\n",
    "3. Обучить разные модели с различными гиперпараметрами.\n",
    "4. Проверить данные на тестовой выборке и сделать выводы.\n"
   ]
  },
  {
   "cell_type": "markdown",
   "metadata": {
    "id": "ok-_4AXMUmCH"
   },
   "source": [
    "## Подготовка"
   ]
  },
  {
   "cell_type": "code",
   "execution_count": null,
   "metadata": {
    "colab": {
     "base_uri": "https://localhost:8080/"
    },
    "id": "KY5BqiyE2mO_",
    "outputId": "912736b2-3e55-40a3-a589-24d204fa0d24"
   },
   "outputs": [
    {
     "output_type": "stream",
     "name": "stdout",
     "text": [
      "Looking in indexes: https://pypi.org/simple, https://us-python.pkg.dev/colab-wheels/public/simple/\n",
      "Collecting catboost\n",
      "  Downloading catboost-1.0.6-cp37-none-manylinux1_x86_64.whl (76.6 MB)\n",
      "\u001B[K     |████████████████████████████████| 76.6 MB 1.3 MB/s \n",
      "\u001B[?25hRequirement already satisfied: scipy in /usr/local/lib/python3.7/dist-packages (from catboost) (1.7.3)\n",
      "Requirement already satisfied: graphviz in /usr/local/lib/python3.7/dist-packages (from catboost) (0.10.1)\n",
      "Requirement already satisfied: numpy>=1.16.0 in /usr/local/lib/python3.7/dist-packages (from catboost) (1.21.6)\n",
      "Requirement already satisfied: pandas>=0.24.0 in /usr/local/lib/python3.7/dist-packages (from catboost) (1.3.5)\n",
      "Requirement already satisfied: six in /usr/local/lib/python3.7/dist-packages (from catboost) (1.15.0)\n",
      "Requirement already satisfied: plotly in /usr/local/lib/python3.7/dist-packages (from catboost) (5.5.0)\n",
      "Requirement already satisfied: matplotlib in /usr/local/lib/python3.7/dist-packages (from catboost) (3.2.2)\n",
      "Requirement already satisfied: pytz>=2017.3 in /usr/local/lib/python3.7/dist-packages (from pandas>=0.24.0->catboost) (2022.1)\n",
      "Requirement already satisfied: python-dateutil>=2.7.3 in /usr/local/lib/python3.7/dist-packages (from pandas>=0.24.0->catboost) (2.8.2)\n",
      "Requirement already satisfied: pyparsing!=2.0.4,!=2.1.2,!=2.1.6,>=2.0.1 in /usr/local/lib/python3.7/dist-packages (from matplotlib->catboost) (3.0.9)\n",
      "Requirement already satisfied: cycler>=0.10 in /usr/local/lib/python3.7/dist-packages (from matplotlib->catboost) (0.11.0)\n",
      "Requirement already satisfied: kiwisolver>=1.0.1 in /usr/local/lib/python3.7/dist-packages (from matplotlib->catboost) (1.4.3)\n",
      "Requirement already satisfied: typing-extensions in /usr/local/lib/python3.7/dist-packages (from kiwisolver>=1.0.1->matplotlib->catboost) (4.1.1)\n",
      "Requirement already satisfied: tenacity>=6.2.0 in /usr/local/lib/python3.7/dist-packages (from plotly->catboost) (8.0.1)\n",
      "Installing collected packages: catboost\n",
      "Successfully installed catboost-1.0.6\n"
     ]
    }
   ],
   "source": [
    "!pip install catboost"
   ]
  },
  {
   "cell_type": "code",
   "execution_count": 2,
   "metadata": {
    "id": "T6T5PpuaUmCI",
    "colab": {
     "base_uri": "https://localhost:8080/"
    },
    "outputId": "0b0fbfe5-ec0a-4258-8170-e10fed82676b"
   },
   "outputs": [],
   "source": [
    "# блок импорта\n",
    "import pandas as pd\n",
    "\n",
    "\n",
    "# Подготовка моделей\n",
    "from sklearn.model_selection import train_test_split\n",
    "\n",
    "\n",
    "\n",
    "# Метрики\n",
    "from sklearn.metrics import mean_absolute_error, accuracy_score\n",
    "\n",
    "\n",
    "from sklearn.preprocessing import StandardScaler\n",
    "\n",
    "\n",
    "import re\n",
    "from catboost import CatBoostClassifier\n",
    "from matplotlib import pyplot as plt"
   ]
  },
  {
   "cell_type": "code",
   "execution_count": 3,
   "metadata": {
    "id": "0gmGibleUmCJ"
   },
   "outputs": [],
   "source": [
    "data = pd.read_excel('dataset_train.xlsx')\n",
    "data_test =  pd.read_csv('dataset_test.csv', sep=';')"
   ]
  },
  {
   "cell_type": "code",
   "execution_count": 4,
   "metadata": {
    "id": "DD9sptoR3Xu1"
   },
   "outputs": [],
   "source": [
    "def clean_data_1(row):\n",
    "  i = re.sub('[^\\d\\,-]', '', row['Data'])\n",
    "  return i\n",
    "\n",
    "def clean_data_2(row):\n",
    "  i = re.sub('[^\\d\\,-]', '', row['Data_2'])\n",
    "  return i"
   ]
  },
  {
   "cell_type": "code",
   "execution_count": 5,
   "metadata": {
    "id": "zPfrUUZP3IHt"
   },
   "outputs": [],
   "source": [
    "data['Data'] = data.apply(clean_data_1, axis=1)\n",
    "features_1 = data['Data'].str.split(',',expand=True)"
   ]
  },
  {
   "cell_type": "code",
   "execution_count": 6,
   "metadata": {
    "id": "AXfKkb449cgw"
   },
   "outputs": [],
   "source": [
    "data['Data_2'] = data.apply(clean_data_2, axis=1)\n",
    "features_2 = data['Data_2'].str.split(',',expand=True)"
   ]
  },
  {
   "cell_type": "markdown",
   "metadata": {
    "id": "ntVMLiyBUmCM"
   },
   "source": [
    "## Анализ"
   ]
  },
  {
   "cell_type": "code",
   "execution_count": 7,
   "metadata": {
    "id": "nKT5260-o1Sz"
   },
   "outputs": [],
   "source": [
    "data_features = pd.concat([features_1, features_2], axis=1)"
   ]
  },
  {
   "cell_type": "code",
   "execution_count": 8,
   "metadata": {
    "id": "uu8gMgGko7Sl"
   },
   "outputs": [],
   "source": [
    "new_col = list(map(str,range(480)))\n",
    "data_features = data_features.set_axis(new_col, axis=1, inplace=False)"
   ]
  },
  {
   "cell_type": "code",
   "execution_count": 9,
   "metadata": {
    "id": "eFafgn5Xg8ZY"
   },
   "outputs": [],
   "source": [
    "data_full = pd.concat([data, data_features],axis=1).drop(['Data','Data_2'], axis =1)"
   ]
  },
  {
   "cell_type": "code",
   "execution_count": 10,
   "metadata": {
    "id": "hK8CfRXTR5ia"
   },
   "outputs": [],
   "source": [
    "#убираем пропуски в данных\n",
    "data_full = data_full.dropna(axis=0).reset_index(drop=True)"
   ]
  },
  {
   "cell_type": "code",
   "source": [
    "data_full['median_1'] = data_full.iloc[:, 5:245].median(axis=1)\n",
    "data_full['median_2'] = data_full.iloc[:, 245:485].median(axis=1)"
   ],
   "metadata": {
    "id": "wvYXnEESCwiw"
   },
   "execution_count": 11,
   "outputs": []
  },
  {
   "cell_type": "code",
   "execution_count": 12,
   "metadata": {
    "id": "k6T0e1jwOJkl"
   },
   "outputs": [],
   "source": [
    "data_full = data_full.query('-1000 < median_1 <500 and -1000< median_2 < 1000')"
   ]
  },
  {
   "cell_type": "code",
   "source": [
    "data_full.iloc[:, 5:245] = data_full.iloc[:, 5:245].astype('int')\n",
    "data_full.iloc[:, 245:485] = data_full.iloc[:, 245:485].astype('int')"
   ],
   "metadata": {
    "id": "6dUrF2PZD6Ud"
   },
   "execution_count": 13,
   "outputs": []
  },
  {
   "cell_type": "code",
   "execution_count": 14,
   "metadata": {
    "id": "OpmxBSh3mmcF"
   },
   "outputs": [],
   "source": [
    "#убираем пропуски в данных\n",
    "data_full = data_full.dropna(axis=0).reset_index(drop=True)"
   ]
  },
  {
   "cell_type": "markdown",
   "source": [
    "Масштабируем признаки"
   ],
   "metadata": {
    "id": "fJe0VJnibctc"
   }
  },
  {
   "cell_type": "code",
   "source": [
    "#масштабирую данные фотоплетизмограммы\n",
    "scaler = StandardScaler()\n",
    "model = scaler.fit(data_full.iloc[:, 5:245])\n",
    "data_full.iloc[:, 5:245] = model.transform(data_full.iloc[:, 5:245])"
   ],
   "metadata": {
    "id": "AUn2JunnXaF4"
   },
   "execution_count": 15,
   "outputs": []
  },
  {
   "cell_type": "code",
   "source": [
    "#масштабирую данные пьезоплетизмограммы\n",
    "scaler = StandardScaler()\n",
    "model = scaler.fit(data_full.iloc[:, 245:485])\n",
    "data_full.iloc[:, 245:485] = model.transform(data_full.iloc[:, 245:485])"
   ],
   "metadata": {
    "id": "LYd1UDx9hsnm"
   },
   "execution_count": 16,
   "outputs": []
  },
  {
   "cell_type": "markdown",
   "metadata": {
    "id": "Lc5bcNlVUmCN"
   },
   "source": [
    "## Обучение"
   ]
  },
  {
   "cell_type": "code",
   "execution_count": 17,
   "metadata": {
    "id": "6GKa-rPIKJE9"
   },
   "outputs": [],
   "source": [
    "#создаём категориальные признаки\n",
    "data_full[['Test_index', 'Presentation', 'Question']] = data_full[['Test_index', 'Presentation', 'Question']].astype(\"category\")"
   ]
  },
  {
   "cell_type": "code",
   "source": [
    "features = data_full.drop(['Filename','Class_label'], axis =1)\n",
    "target = data_full['Class_label']\n",
    "features_train, features_test, target_train, target_test = train_test_split(features, target, test_size = 0.25, random_state = 12345)"
   ],
   "metadata": {
    "id": "Tsxer3a_xRvD"
   },
   "execution_count": 18,
   "outputs": []
  },
  {
   "cell_type": "code",
   "execution_count": 19,
   "metadata": {
    "id": "RvnoaWHzQ4tw"
   },
   "outputs": [],
   "source": [
    "categorial = ['Test_index', 'Presentation', 'Question', 'Question']"
   ]
  },
  {
   "cell_type": "code",
   "execution_count": 20,
   "metadata": {
    "id": "8RQL5pjar1Mc"
   },
   "outputs": [],
   "source": [
    "def train_cb():\n",
    "    default_parameters = {\n",
    "        \"custom_metric\": ['MultiClass', 'AUC:hints=skip_train~false'],\n",
    "        \"random_seed\": 42,\n",
    "        \"loss_function\": \"MultiClass\",\n",
    "        \"metric_period\": 500,\n",
    "        \"depth\": 6,\n",
    "        \"bootstrap_type\": \"Bayesian\",\n",
    "        \"bagging_temperature\": 0.66\n",
    "\n",
    "    }\n",
    "\n",
    "    parameters = {\n",
    "        'iterations': 2500,\n",
    "        'task_type': \"CPU\",\n",
    "        **default_parameters\n",
    "    }\n",
    "\n",
    "    clf = CatBoostClassifier(**parameters, silent=True, cat_features=categorial)\n",
    "    clf.fit(features_train, target_train, verbose=500, plot=False)\n",
    "    return clf\n",
    "\n",
    " "
   ]
  },
  {
   "cell_type": "code",
   "source": [
    "print(\"Fitting model...\")\n",
    "model_cb = train_cb()"
   ],
   "metadata": {
    "colab": {
     "base_uri": "https://localhost:8080/",
     "height": 481
    },
    "id": "TPl-o-0s4la8",
    "outputId": "4d0cca7a-e2b3-4e1a-9445-f1a99f5a04b9"
   },
   "execution_count": 21,
   "outputs": [
    {
     "name": "stdout",
     "output_type": "stream",
     "text": [
      "Fitting model...\n",
      "Learning rate set to 0.042614\n",
      "0:\tlearn: 1.0886365\ttotal: 306ms\tremaining: 12m 45s\n",
      "500:\tlearn: 0.8674243\ttotal: 1m 9s\tremaining: 4m 38s\n",
      "1000:\tlearn: 0.7624684\ttotal: 2m 14s\tremaining: 3m 20s\n",
      "1500:\tlearn: 0.6731499\ttotal: 3m 34s\tremaining: 2m 22s\n",
      "2000:\tlearn: 0.5966498\ttotal: 4m 59s\tremaining: 1m 14s\n",
      "2499:\tlearn: 0.5316068\ttotal: 6m 4s\tremaining: 0us\n"
     ]
    }
   ]
  },
  {
   "cell_type": "code",
   "execution_count": 27,
   "metadata": {
    "id": "NNjqnlUGupzY"
   },
   "outputs": [],
   "source": [
    "predicts_CB = model_cb.predict(features_test)"
   ]
  },
  {
   "cell_type": "code",
   "execution_count": 28,
   "metadata": {
    "id": "gYoEUKvlSOV2",
    "colab": {
     "base_uri": "https://localhost:8080/"
    },
    "outputId": "090276fd-b7ef-4d5d-815b-00b55fea0c84"
   },
   "outputs": [
    {
     "name": "stdout",
     "output_type": "stream",
     "text": [
      "MAE tree 0.445141065830721\n",
      "ACC tree 0.5618409803362782\n"
     ]
    }
   ],
   "source": [
    "MAE_CB = mean_absolute_error(target_test, predicts_CB)\n",
    "print('MAE tree', MAE_CB)\n",
    "ACC_CB = accuracy_score(target_test, predicts_CB)\n",
    "print('ACC tree', ACC_CB)"
   ]
  },
  {
   "cell_type": "markdown",
   "metadata": {
    "id": "vwvxqOH5UmCN"
   },
   "source": [
    "## Тестирование"
   ]
  },
  {
   "cell_type": "code",
   "source": [
    "def predict(data):\n",
    "  data_test = data.copy()\n",
    "  data_test = data_test.drop(['id'], axis =1)\n",
    "\n",
    "  data_test['Data'] = data_test.apply(clean_data_1, axis=1)\n",
    "  features_1 = data_test['Data'].str.split(',',expand=True)\n",
    "  data_test['Data_2'] = data_test.apply(clean_data_2, axis=1)\n",
    "  features_2 = data_test['Data'].str.split(',',expand=True)\n",
    "\n",
    "  data_features = pd.concat([features_1, features_2],axis=1)\n",
    "\n",
    "  new_col = list(map(str,range(480)))\n",
    "  data_features = data_features.set_axis(new_col, axis=1, inplace=False)\n",
    "\n",
    "  data_full = pd.concat([data_test, data_features],axis=1).drop(['Data','Data_2'], axis =1)\n",
    "\n",
    "  data_full.iloc[:, 5:245] = data_full.iloc[:, 5:245].astype('int')\n",
    "  data_full.iloc[:, 245:485] = data_full.iloc[:, 245:485].astype('int')\n",
    "\n",
    "  data_full['median_1'] = features_1.iloc[:, :-1].median(axis=1)\n",
    "  data_full['median_2'] = features_2.iloc[:, :-1].median(axis=1)\n",
    "\n",
    "  scaler = StandardScaler()\n",
    "  model = scaler.fit(data_full.iloc[:, 5:245])\n",
    "  data_full.iloc[:, 5:245] = model.transform(data_full.iloc[:, 5:245])\n",
    "  model = scaler.fit(data_full.iloc[:, 245:485])\n",
    "  data_full.iloc[:, 245:485] = model.transform(data_full.iloc[:, 245:485])\n",
    "\n",
    "  #predict\n",
    "  data_full[['Test_index', 'Presentation', 'Question']] = data_full[['Test_index', 'Presentation', 'Question']].astype(\"category\")\n",
    "  features = data_full.drop(['Filename','Class_label'], axis =1)\n",
    "\n",
    "  #categorial = ['Test_index', 'Presentation', 'Question']\n",
    "\n",
    "  predicts_CB = model_cb.predict(features)\n",
    "  predicts_CB = pd.Series(predicts_CB.flatten())\n",
    "  result = pd.DataFrame(data['id'])\n",
    "  result = pd.concat([result, predicts_CB], axis =1).reset_index(drop=True)\n",
    "\n",
    "  return(result)"
   ],
   "metadata": {
    "id": "2faoq7l95VKB"
   },
   "execution_count": 29,
   "outputs": []
  },
  {
   "cell_type": "code",
   "source": [
    "test = predict(data_test)"
   ],
   "metadata": {
    "colab": {
     "base_uri": "https://localhost:8080/"
    },
    "id": "FOBMrf9_PRkm",
    "outputId": "3fa30f8e-b315-4726-be91-349ec0705cd3"
   },
   "execution_count": 30,
   "outputs": [
    {
     "name": "stderr",
     "output_type": "stream",
     "text": [
      "C:\\anaconda3\\envs\\PyTorchEnv\\lib\\site-packages\\ipykernel_launcher.py:20: PerformanceWarning: DataFrame is highly fragmented.  This is usually the result of calling `frame.insert` many times, which has poor performance.  Consider joining all columns at once using pd.concat(axis=1) instead.  To get a de-fragmented frame, use `newframe = frame.copy()`\n",
      "C:\\anaconda3\\envs\\PyTorchEnv\\lib\\site-packages\\ipykernel_launcher.py:21: PerformanceWarning: DataFrame is highly fragmented.  This is usually the result of calling `frame.insert` many times, which has poor performance.  Consider joining all columns at once using pd.concat(axis=1) instead.  To get a de-fragmented frame, use `newframe = frame.copy()`\n"
     ]
    }
   ]
  },
  {
   "cell_type": "code",
   "source": [
    "col = ['id', 'Class_label']\n",
    "test_result = test.set_axis(col,axis = 1,  inplace=False)"
   ],
   "metadata": {
    "id": "-gsg53-dSC9X"
   },
   "execution_count": 31,
   "outputs": []
  },
  {
   "cell_type": "code",
   "execution_count": null,
   "outputs": [],
   "source": [
    "from google.colab import files"
   ],
   "metadata": {
    "collapsed": false,
    "pycharm": {
     "name": "#%%\n"
    }
   }
  },
  {
   "cell_type": "code",
   "execution_count": null,
   "outputs": [],
   "source": [
    "test_result.info()"
   ],
   "metadata": {
    "collapsed": false,
    "pycharm": {
     "name": "#%%\n"
    }
   }
  },
  {
   "cell_type": "code",
   "source": [
    "test_result.to_csv('never_gonna_give_you_up.csv', sep=';', index=False) \n",
    "files.download('never_gonna_give_you_up.csv')"
   ],
   "metadata": {
    "id": "c-RxEv2nVGoR",
    "colab": {
     "base_uri": "https://localhost:8080/",
     "height": 16
    },
    "outputId": "57dfe014-31a7-4432-bdeb-ceaf184841be",
    "pycharm": {
     "name": "#%%\n"
    }
   },
   "execution_count": 32,
   "outputs": [
    {
     "ename": "NameError",
     "evalue": "name 'files' is not defined",
     "output_type": "error",
     "traceback": [
      "\u001B[1;31m---------------------------------------------------------------------------\u001B[0m",
      "\u001B[1;31mNameError\u001B[0m                                 Traceback (most recent call last)",
      "\u001B[1;32m~\\AppData\\Local\\Temp\\ipykernel_14556\\718035354.py\u001B[0m in \u001B[0;36m<module>\u001B[1;34m\u001B[0m\n\u001B[0;32m      1\u001B[0m \u001B[0mtest_result\u001B[0m\u001B[1;33m.\u001B[0m\u001B[0mto_csv\u001B[0m\u001B[1;33m(\u001B[0m\u001B[1;34m'never_gonna_give_you_up.csv'\u001B[0m\u001B[1;33m,\u001B[0m \u001B[0msep\u001B[0m\u001B[1;33m=\u001B[0m\u001B[1;34m';'\u001B[0m\u001B[1;33m,\u001B[0m \u001B[0mindex\u001B[0m\u001B[1;33m=\u001B[0m\u001B[1;32mFalse\u001B[0m\u001B[1;33m)\u001B[0m\u001B[1;33m\u001B[0m\u001B[1;33m\u001B[0m\u001B[0m\n\u001B[1;32m----> 2\u001B[1;33m \u001B[0mfiles\u001B[0m\u001B[1;33m.\u001B[0m\u001B[0mdownload\u001B[0m\u001B[1;33m(\u001B[0m\u001B[1;34m'never_gonna_give_you_up.csv'\u001B[0m\u001B[1;33m)\u001B[0m\u001B[1;33m\u001B[0m\u001B[1;33m\u001B[0m\u001B[0m\n\u001B[0m",
      "\u001B[1;31mNameError\u001B[0m: name 'files' is not defined"
     ]
    }
   ]
  }
 ],
 "metadata": {
  "ExecuteTimeLog": [
   {
    "duration": 1170,
    "start_time": "2022-07-07T15:38:34.716Z"
   },
   {
    "duration": 118,
    "start_time": "2022-07-07T15:38:35.887Z"
   },
   {
    "duration": 0,
    "start_time": "2022-07-07T15:38:36.006Z"
   },
   {
    "duration": 162,
    "start_time": "2022-07-07T15:39:12.069Z"
   },
   {
    "duration": 12,
    "start_time": "2022-07-07T15:39:13.097Z"
   },
   {
    "duration": 45,
    "start_time": "2022-07-07T15:40:04.521Z"
   },
   {
    "duration": 6,
    "start_time": "2022-07-07T15:40:05.041Z"
   },
   {
    "duration": 10,
    "start_time": "2022-07-07T15:40:39.719Z"
   },
   {
    "duration": 10,
    "start_time": "2022-07-07T15:41:38.433Z"
   },
   {
    "duration": 4,
    "start_time": "2022-07-07T15:42:33.772Z"
   },
   {
    "duration": 5,
    "start_time": "2022-07-07T15:46:18.670Z"
   },
   {
    "duration": 5,
    "start_time": "2022-07-07T15:46:56.331Z"
   },
   {
    "duration": 4,
    "start_time": "2022-07-07T15:49:01.334Z"
   },
   {
    "duration": 11,
    "start_time": "2022-07-07T15:49:22.321Z"
   },
   {
    "duration": 10,
    "start_time": "2022-07-07T15:56:28.471Z"
   },
   {
    "duration": 11,
    "start_time": "2022-07-07T15:56:39.903Z"
   },
   {
    "duration": 9,
    "start_time": "2022-07-07T15:56:46.847Z"
   },
   {
    "duration": 30,
    "start_time": "2022-07-07T15:57:35.494Z"
   },
   {
    "duration": 7,
    "start_time": "2022-07-07T15:57:35.936Z"
   },
   {
    "duration": 9,
    "start_time": "2022-07-07T15:57:37.016Z"
   },
   {
    "duration": 4,
    "start_time": "2022-07-07T15:57:40.782Z"
   },
   {
    "duration": 6,
    "start_time": "2022-07-07T15:57:41.792Z"
   },
   {
    "duration": 14,
    "start_time": "2022-07-07T15:57:45.449Z"
   },
   {
    "duration": 269,
    "start_time": "2022-07-07T15:58:56.767Z"
   },
   {
    "duration": 33,
    "start_time": "2022-07-07T15:58:57.168Z"
   },
   {
    "duration": 7,
    "start_time": "2022-07-07T15:58:57.496Z"
   },
   {
    "duration": 13,
    "start_time": "2022-07-07T16:00:25.016Z"
   },
   {
    "duration": 2,
    "start_time": "2022-07-07T16:01:03.219Z"
   },
   {
    "duration": 6,
    "start_time": "2022-07-07T16:01:28.808Z"
   },
   {
    "duration": 4,
    "start_time": "2022-07-07T16:01:57.192Z"
   },
   {
    "duration": 26,
    "start_time": "2022-07-07T16:04:12.873Z"
   },
   {
    "duration": 808,
    "start_time": "2022-07-07T16:04:47.098Z"
   },
   {
    "duration": 29,
    "start_time": "2022-07-07T16:05:06.034Z"
   },
   {
    "duration": 26,
    "start_time": "2022-07-07T16:05:26.670Z"
   },
   {
    "duration": 11,
    "start_time": "2022-07-07T16:05:35.483Z"
   },
   {
    "duration": 13,
    "start_time": "2022-07-07T16:06:30.851Z"
   },
   {
    "duration": 9,
    "start_time": "2022-07-07T16:07:13.401Z"
   },
   {
    "duration": 4,
    "start_time": "2022-07-07T16:07:20.283Z"
   },
   {
    "duration": 320,
    "start_time": "2022-07-07T16:07:21.437Z"
   },
   {
    "duration": 12,
    "start_time": "2022-07-07T16:07:58.482Z"
   },
   {
    "duration": 1248,
    "start_time": "2022-07-07T16:08:07.392Z"
   },
   {
    "duration": 32,
    "start_time": "2022-07-07T16:08:08.642Z"
   },
   {
    "duration": 9,
    "start_time": "2022-07-07T16:08:08.676Z"
   },
   {
    "duration": 9,
    "start_time": "2022-07-07T16:08:08.687Z"
   },
   {
    "duration": 3,
    "start_time": "2022-07-07T16:08:08.698Z"
   },
   {
    "duration": 8,
    "start_time": "2022-07-07T16:08:08.703Z"
   },
   {
    "duration": 4,
    "start_time": "2022-07-07T16:08:08.712Z"
   },
   {
    "duration": 26,
    "start_time": "2022-07-07T16:08:08.717Z"
   },
   {
    "duration": 3,
    "start_time": "2022-07-07T16:08:08.744Z"
   },
   {
    "duration": 250,
    "start_time": "2022-07-07T16:08:08.748Z"
   },
   {
    "duration": 282,
    "start_time": "2022-07-07T16:25:56.721Z"
   },
   {
    "duration": 108,
    "start_time": "2022-07-07T16:30:13.923Z"
   },
   {
    "duration": 47,
    "start_time": "2022-07-07T16:30:14.330Z"
   },
   {
    "duration": 9,
    "start_time": "2022-07-07T16:30:14.586Z"
   },
   {
    "duration": 10,
    "start_time": "2022-07-07T16:30:14.813Z"
   },
   {
    "duration": 3,
    "start_time": "2022-07-07T16:30:15.024Z"
   },
   {
    "duration": 14,
    "start_time": "2022-07-07T16:30:15.244Z"
   },
   {
    "duration": 2,
    "start_time": "2022-07-07T16:30:15.475Z"
   },
   {
    "duration": 5,
    "start_time": "2022-07-07T16:30:15.675Z"
   },
   {
    "duration": 4,
    "start_time": "2022-07-07T16:30:15.881Z"
   },
   {
    "duration": 219,
    "start_time": "2022-07-07T16:30:16.297Z"
   },
   {
    "duration": 240,
    "start_time": "2022-07-07T16:30:17.715Z"
   },
   {
    "duration": 121,
    "start_time": "2022-07-07T16:31:13.179Z"
   },
   {
    "duration": 9,
    "start_time": "2022-07-07T16:31:27.985Z"
   },
   {
    "duration": 1343,
    "start_time": "2022-07-07T16:31:36.874Z"
   },
   {
    "duration": 35,
    "start_time": "2022-07-07T16:31:38.219Z"
   },
   {
    "duration": 13,
    "start_time": "2022-07-07T16:31:38.255Z"
   },
   {
    "duration": 13,
    "start_time": "2022-07-07T16:31:38.269Z"
   },
   {
    "duration": 3,
    "start_time": "2022-07-07T16:31:38.284Z"
   },
   {
    "duration": 7,
    "start_time": "2022-07-07T16:31:38.288Z"
   },
   {
    "duration": 2,
    "start_time": "2022-07-07T16:31:38.297Z"
   },
   {
    "duration": 7,
    "start_time": "2022-07-07T16:31:38.300Z"
   },
   {
    "duration": 6,
    "start_time": "2022-07-07T16:31:38.309Z"
   },
   {
    "duration": 284,
    "start_time": "2022-07-07T16:31:38.317Z"
   },
   {
    "duration": 321,
    "start_time": "2022-07-07T16:31:38.602Z"
   },
   {
    "duration": 132,
    "start_time": "2022-07-07T16:31:38.925Z"
   },
   {
    "duration": 11,
    "start_time": "2022-07-07T16:31:59.954Z"
   },
   {
    "duration": 1517,
    "start_time": "2022-07-07T16:33:29.986Z"
   },
   {
    "duration": 49,
    "start_time": "2022-07-07T16:33:31.505Z"
   },
   {
    "duration": 13,
    "start_time": "2022-07-07T16:33:31.556Z"
   },
   {
    "duration": 24,
    "start_time": "2022-07-07T16:33:31.571Z"
   },
   {
    "duration": 3,
    "start_time": "2022-07-07T16:33:31.597Z"
   },
   {
    "duration": 10,
    "start_time": "2022-07-07T16:33:31.601Z"
   },
   {
    "duration": 3,
    "start_time": "2022-07-07T16:33:31.612Z"
   },
   {
    "duration": 19,
    "start_time": "2022-07-07T16:33:31.616Z"
   },
   {
    "duration": 15,
    "start_time": "2022-07-07T16:33:31.637Z"
   },
   {
    "duration": 228,
    "start_time": "2022-07-07T16:33:31.654Z"
   },
   {
    "duration": 5,
    "start_time": "2022-07-07T16:33:31.883Z"
   },
   {
    "duration": 307,
    "start_time": "2022-07-07T16:33:31.889Z"
   },
   {
    "duration": 113,
    "start_time": "2022-07-07T16:33:32.197Z"
   },
   {
    "duration": 896,
    "start_time": "2022-07-07T16:35:06.679Z"
   },
   {
    "duration": 17,
    "start_time": "2022-07-07T16:35:26.939Z"
   },
   {
    "duration": 6,
    "start_time": "2022-07-07T16:36:24.770Z"
   },
   {
    "duration": 848,
    "start_time": "2022-07-07T16:36:38.453Z"
   },
   {
    "duration": 21,
    "start_time": "2022-07-07T16:37:55.035Z"
   },
   {
    "duration": 1413,
    "start_time": "2022-07-07T16:39:04.216Z"
   },
   {
    "duration": 42,
    "start_time": "2022-07-07T16:39:05.631Z"
   },
   {
    "duration": 12,
    "start_time": "2022-07-07T16:39:05.675Z"
   },
   {
    "duration": 10,
    "start_time": "2022-07-07T16:39:05.688Z"
   },
   {
    "duration": 3,
    "start_time": "2022-07-07T16:39:05.700Z"
   },
   {
    "duration": 14,
    "start_time": "2022-07-07T16:39:05.704Z"
   },
   {
    "duration": 3,
    "start_time": "2022-07-07T16:39:05.719Z"
   },
   {
    "duration": 7,
    "start_time": "2022-07-07T16:39:05.723Z"
   },
   {
    "duration": 22,
    "start_time": "2022-07-07T16:39:05.731Z"
   },
   {
    "duration": 234,
    "start_time": "2022-07-07T16:39:05.754Z"
   },
   {
    "duration": 6,
    "start_time": "2022-07-07T16:39:05.989Z"
   },
   {
    "duration": 324,
    "start_time": "2022-07-07T16:39:05.997Z"
   },
   {
    "duration": 113,
    "start_time": "2022-07-07T16:39:06.323Z"
   },
   {
    "duration": 2,
    "start_time": "2022-07-07T16:39:36.982Z"
   },
   {
    "duration": 1669,
    "start_time": "2022-07-08T03:55:43.881Z"
   },
   {
    "duration": 87,
    "start_time": "2022-07-08T03:55:45.553Z"
   },
   {
    "duration": 13,
    "start_time": "2022-07-08T03:55:45.642Z"
   },
   {
    "duration": 11,
    "start_time": "2022-07-08T03:55:45.657Z"
   },
   {
    "duration": 3,
    "start_time": "2022-07-08T03:55:45.669Z"
   },
   {
    "duration": 7,
    "start_time": "2022-07-08T03:55:45.674Z"
   },
   {
    "duration": 2,
    "start_time": "2022-07-08T03:55:45.683Z"
   },
   {
    "duration": 16,
    "start_time": "2022-07-08T03:55:45.687Z"
   },
   {
    "duration": 5,
    "start_time": "2022-07-08T03:55:45.704Z"
   },
   {
    "duration": 254,
    "start_time": "2022-07-08T03:55:45.711Z"
   },
   {
    "duration": 3,
    "start_time": "2022-07-08T03:55:45.966Z"
   },
   {
    "duration": 327,
    "start_time": "2022-07-08T03:55:45.970Z"
   },
   {
    "duration": 119,
    "start_time": "2022-07-08T03:55:46.300Z"
   },
   {
    "duration": 6,
    "start_time": "2022-07-08T04:07:56.417Z"
   },
   {
    "duration": 1463,
    "start_time": "2022-07-08T04:08:07.203Z"
   },
   {
    "duration": 36,
    "start_time": "2022-07-08T04:08:08.667Z"
   },
   {
    "duration": 15,
    "start_time": "2022-07-08T04:08:08.704Z"
   },
   {
    "duration": 11,
    "start_time": "2022-07-08T04:08:08.721Z"
   },
   {
    "duration": 7,
    "start_time": "2022-07-08T04:08:08.733Z"
   },
   {
    "duration": 11,
    "start_time": "2022-07-08T04:08:08.742Z"
   },
   {
    "duration": 6,
    "start_time": "2022-07-08T04:08:08.755Z"
   },
   {
    "duration": 11,
    "start_time": "2022-07-08T04:08:08.763Z"
   },
   {
    "duration": 25,
    "start_time": "2022-07-08T04:08:08.776Z"
   },
   {
    "duration": 252,
    "start_time": "2022-07-08T04:08:08.804Z"
   },
   {
    "duration": 8,
    "start_time": "2022-07-08T04:08:09.059Z"
   },
   {
    "duration": 353,
    "start_time": "2022-07-08T04:08:09.069Z"
   },
   {
    "duration": 125,
    "start_time": "2022-07-08T04:08:09.424Z"
   },
   {
    "duration": 7,
    "start_time": "2022-07-08T04:09:25.673Z"
   },
   {
    "duration": 258,
    "start_time": "2022-07-08T04:09:33.985Z"
   },
   {
    "duration": 13,
    "start_time": "2022-07-08T04:09:34.554Z"
   },
   {
    "duration": 10,
    "start_time": "2022-07-08T04:11:17.258Z"
   },
   {
    "duration": 2,
    "start_time": "2022-07-08T04:11:34.074Z"
   },
   {
    "duration": 3,
    "start_time": "2022-07-08T04:11:36.850Z"
   },
   {
    "duration": 910,
    "start_time": "2022-07-08T04:19:30.128Z"
   },
   {
    "duration": 861,
    "start_time": "2022-07-08T04:20:39.156Z"
   },
   {
    "duration": 1477,
    "start_time": "2022-07-08T04:21:04.977Z"
   },
   {
    "duration": 35,
    "start_time": "2022-07-08T04:21:06.458Z"
   },
   {
    "duration": 13,
    "start_time": "2022-07-08T04:21:06.495Z"
   },
   {
    "duration": 14,
    "start_time": "2022-07-08T04:21:06.510Z"
   },
   {
    "duration": 4,
    "start_time": "2022-07-08T04:21:06.526Z"
   },
   {
    "duration": 9,
    "start_time": "2022-07-08T04:21:06.532Z"
   },
   {
    "duration": 8,
    "start_time": "2022-07-08T04:21:06.543Z"
   },
   {
    "duration": 5,
    "start_time": "2022-07-08T04:21:06.553Z"
   },
   {
    "duration": 286,
    "start_time": "2022-07-08T04:21:06.560Z"
   },
   {
    "duration": 2,
    "start_time": "2022-07-08T04:21:06.849Z"
   },
   {
    "duration": 8,
    "start_time": "2022-07-08T04:21:06.853Z"
   },
   {
    "duration": 901,
    "start_time": "2022-07-08T04:21:06.863Z"
   },
   {
    "duration": 0,
    "start_time": "2022-07-08T04:21:07.766Z"
   },
   {
    "duration": 11,
    "start_time": "2022-07-08T04:22:11.058Z"
   },
   {
    "duration": 6,
    "start_time": "2022-07-08T04:23:18.424Z"
   },
   {
    "duration": 15,
    "start_time": "2022-07-08T04:23:23.759Z"
   },
   {
    "duration": 6,
    "start_time": "2022-07-08T04:24:47.415Z"
   },
   {
    "duration": 9,
    "start_time": "2022-07-08T04:25:58.071Z"
   },
   {
    "duration": 939,
    "start_time": "2022-07-08T04:26:00.030Z"
   },
   {
    "duration": 5,
    "start_time": "2022-07-08T04:26:17.991Z"
   },
   {
    "duration": 831,
    "start_time": "2022-07-08T04:26:18.926Z"
   },
   {
    "duration": 3,
    "start_time": "2022-07-08T04:28:42.295Z"
   },
   {
    "duration": 800,
    "start_time": "2022-07-08T04:29:36.880Z"
   },
   {
    "duration": 47,
    "start_time": "2022-07-08T04:34:58.463Z"
   },
   {
    "duration": 19,
    "start_time": "2022-07-08T04:35:21.265Z"
   },
   {
    "duration": 1437,
    "start_time": "2022-07-08T04:35:47.832Z"
   },
   {
    "duration": 37,
    "start_time": "2022-07-08T04:35:49.270Z"
   },
   {
    "duration": 16,
    "start_time": "2022-07-08T04:35:49.308Z"
   },
   {
    "duration": 14,
    "start_time": "2022-07-08T04:35:49.326Z"
   },
   {
    "duration": 3,
    "start_time": "2022-07-08T04:35:49.342Z"
   },
   {
    "duration": 28,
    "start_time": "2022-07-08T04:35:49.347Z"
   },
   {
    "duration": 22,
    "start_time": "2022-07-08T04:35:49.377Z"
   },
   {
    "duration": 27,
    "start_time": "2022-07-08T04:35:49.401Z"
   },
   {
    "duration": 265,
    "start_time": "2022-07-08T04:35:49.430Z"
   },
   {
    "duration": 6,
    "start_time": "2022-07-08T04:35:49.698Z"
   },
   {
    "duration": 971,
    "start_time": "2022-07-08T04:35:49.706Z"
   },
   {
    "duration": 138,
    "start_time": "2022-07-08T04:35:50.679Z"
   },
   {
    "duration": 0,
    "start_time": "2022-07-08T04:35:50.819Z"
   },
   {
    "duration": 0,
    "start_time": "2022-07-08T04:35:50.820Z"
   },
   {
    "duration": 1466,
    "start_time": "2022-07-08T04:36:19.224Z"
   },
   {
    "duration": 1621,
    "start_time": "2022-07-08T04:36:37.573Z"
   },
   {
    "duration": 585,
    "start_time": "2022-07-08T04:37:06.107Z"
   },
   {
    "duration": 478,
    "start_time": "2022-07-08T04:37:17.050Z"
   },
   {
    "duration": 57,
    "start_time": "2022-07-08T04:38:26.053Z"
   },
   {
    "duration": 487,
    "start_time": "2022-07-08T04:38:32.839Z"
   },
   {
    "duration": 530,
    "start_time": "2022-07-08T04:39:27.728Z"
   },
   {
    "duration": 935,
    "start_time": "2022-07-08T04:39:49.592Z"
   },
   {
    "duration": 1022,
    "start_time": "2022-07-08T04:40:09.713Z"
   },
   {
    "duration": 3111,
    "start_time": "2022-07-08T04:41:57.064Z"
   },
   {
    "duration": 446,
    "start_time": "2022-07-08T04:42:24.745Z"
   },
   {
    "duration": 277,
    "start_time": "2022-07-08T04:47:19.504Z"
   },
   {
    "duration": 1039,
    "start_time": "2022-07-08T04:52:50.859Z"
   },
   {
    "duration": 817,
    "start_time": "2022-07-08T04:53:20.162Z"
   },
   {
    "duration": 47,
    "start_time": "2022-07-08T04:54:10.162Z"
   },
   {
    "duration": 799,
    "start_time": "2022-07-08T04:54:25.578Z"
   },
   {
    "duration": 367,
    "start_time": "2022-07-08T04:54:42.739Z"
   },
   {
    "duration": 494,
    "start_time": "2022-07-08T04:54:52.683Z"
   },
   {
    "duration": 842,
    "start_time": "2022-07-08T04:55:10.555Z"
   },
   {
    "duration": 563,
    "start_time": "2022-07-08T04:57:48.884Z"
   },
   {
    "duration": 836,
    "start_time": "2022-07-08T04:57:58.891Z"
   },
   {
    "duration": 974,
    "start_time": "2022-07-08T04:58:56.171Z"
   },
   {
    "duration": 815,
    "start_time": "2022-07-08T04:59:46.595Z"
   },
   {
    "duration": 138,
    "start_time": "2022-07-08T05:02:27.604Z"
   },
   {
    "duration": 252,
    "start_time": "2022-07-08T05:02:39.227Z"
   },
   {
    "duration": 242,
    "start_time": "2022-07-08T05:03:01.116Z"
   },
   {
    "duration": 179,
    "start_time": "2022-07-08T05:05:34.837Z"
   },
   {
    "duration": 333,
    "start_time": "2022-07-08T05:05:49.932Z"
   },
   {
    "duration": 375,
    "start_time": "2022-07-08T05:06:11.055Z"
   },
   {
    "duration": 531,
    "start_time": "2022-07-08T05:06:20.660Z"
   },
   {
    "duration": 337,
    "start_time": "2022-07-08T05:06:31.520Z"
   },
   {
    "duration": 249,
    "start_time": "2022-07-08T05:06:55.670Z"
   },
   {
    "duration": 14,
    "start_time": "2022-07-08T05:12:08.407Z"
   },
   {
    "duration": 4,
    "start_time": "2022-07-08T05:12:20.778Z"
   },
   {
    "duration": 265,
    "start_time": "2022-07-08T05:15:19.559Z"
   },
   {
    "duration": 271,
    "start_time": "2022-07-08T05:17:40.898Z"
   },
   {
    "duration": 50,
    "start_time": "2022-07-08T05:19:44.234Z"
   },
   {
    "duration": 3,
    "start_time": "2022-07-08T05:19:57.017Z"
   },
   {
    "duration": 322,
    "start_time": "2022-07-08T05:19:57.557Z"
   },
   {
    "duration": 3,
    "start_time": "2022-07-08T05:19:58.066Z"
   },
   {
    "duration": 5,
    "start_time": "2022-07-08T05:19:58.513Z"
   },
   {
    "duration": 6,
    "start_time": "2022-07-08T05:19:59.113Z"
   },
   {
    "duration": 280,
    "start_time": "2022-07-08T05:19:59.914Z"
   },
   {
    "duration": 2165,
    "start_time": "2022-07-08T05:20:01.058Z"
   },
   {
    "duration": 1526,
    "start_time": "2022-07-08T05:20:50.103Z"
   },
   {
    "duration": 36,
    "start_time": "2022-07-08T05:20:51.631Z"
   },
   {
    "duration": 14,
    "start_time": "2022-07-08T05:20:51.668Z"
   },
   {
    "duration": 20,
    "start_time": "2022-07-08T05:20:51.685Z"
   },
   {
    "duration": 3,
    "start_time": "2022-07-08T05:20:51.706Z"
   },
   {
    "duration": 7,
    "start_time": "2022-07-08T05:20:51.711Z"
   },
   {
    "duration": 5,
    "start_time": "2022-07-08T05:20:51.720Z"
   },
   {
    "duration": 4,
    "start_time": "2022-07-08T05:20:51.726Z"
   },
   {
    "duration": 269,
    "start_time": "2022-07-08T05:20:51.732Z"
   },
   {
    "duration": 264,
    "start_time": "2022-07-08T05:20:52.004Z"
   },
   {
    "duration": 5,
    "start_time": "2022-07-08T05:20:52.270Z"
   },
   {
    "duration": 908,
    "start_time": "2022-07-08T05:20:52.276Z"
   },
   {
    "duration": 295,
    "start_time": "2022-07-08T05:20:53.186Z"
   },
   {
    "duration": 3,
    "start_time": "2022-07-08T05:20:53.483Z"
   },
   {
    "duration": 272,
    "start_time": "2022-07-08T05:20:53.501Z"
   },
   {
    "duration": 5,
    "start_time": "2022-07-08T05:20:53.774Z"
   },
   {
    "duration": 24,
    "start_time": "2022-07-08T05:20:53.780Z"
   },
   {
    "duration": 22,
    "start_time": "2022-07-08T05:20:53.806Z"
   },
   {
    "duration": 300,
    "start_time": "2022-07-08T05:20:53.829Z"
   },
   {
    "duration": 1702,
    "start_time": "2022-07-08T05:20:54.131Z"
   },
   {
    "duration": 8,
    "start_time": "2022-07-08T05:23:46.877Z"
   },
   {
    "duration": 6,
    "start_time": "2022-07-08T05:24:10.778Z"
   },
   {
    "duration": 20,
    "start_time": "2022-07-08T05:59:07.984Z"
   },
   {
    "duration": 16,
    "start_time": "2022-07-08T06:00:42.613Z"
   },
   {
    "duration": 5,
    "start_time": "2022-07-08T06:03:07.621Z"
   },
   {
    "duration": 10,
    "start_time": "2022-07-08T06:03:33.293Z"
   },
   {
    "duration": 10,
    "start_time": "2022-07-08T06:04:00.595Z"
   },
   {
    "duration": 23,
    "start_time": "2022-07-08T06:05:14.758Z"
   },
   {
    "duration": 45,
    "start_time": "2022-07-08T06:05:16.478Z"
   },
   {
    "duration": 15,
    "start_time": "2022-07-08T06:57:12.956Z"
   },
   {
    "duration": 13,
    "start_time": "2022-07-08T07:07:28.377Z"
   },
   {
    "duration": 10,
    "start_time": "2022-07-08T07:07:33.212Z"
   },
   {
    "duration": 299,
    "start_time": "2022-07-08T07:07:33.783Z"
   },
   {
    "duration": 10,
    "start_time": "2022-07-08T07:08:40.276Z"
   },
   {
    "duration": 16,
    "start_time": "2022-07-08T07:08:42.237Z"
   },
   {
    "duration": 11,
    "start_time": "2022-07-08T07:09:21.418Z"
   },
   {
    "duration": 15,
    "start_time": "2022-07-08T07:09:21.907Z"
   },
   {
    "duration": 3,
    "start_time": "2022-07-08T07:15:13.066Z"
   },
   {
    "duration": 17,
    "start_time": "2022-07-08T07:17:37.828Z"
   },
   {
    "duration": 11,
    "start_time": "2022-07-08T07:17:40.904Z"
   },
   {
    "duration": 44696,
    "start_time": "2022-07-08T07:17:41.711Z"
   },
   {
    "duration": 169,
    "start_time": "2022-07-08T07:23:47.299Z"
   },
   {
    "duration": 63,
    "start_time": "2022-07-08T07:23:58.541Z"
   },
   {
    "duration": 140,
    "start_time": "2022-07-08T07:29:17.345Z"
   },
   {
    "duration": 140,
    "start_time": "2022-07-08T07:31:45.443Z"
   },
   {
    "duration": 18,
    "start_time": "2022-07-08T07:33:37.789Z"
   },
   {
    "duration": 4,
    "start_time": "2022-07-08T07:33:38.237Z"
   },
   {
    "duration": 18,
    "start_time": "2022-07-08T07:34:19.909Z"
   },
   {
    "duration": 1472,
    "start_time": "2022-07-08T07:35:09.483Z"
   },
   {
    "duration": 35,
    "start_time": "2022-07-08T07:35:10.957Z"
   },
   {
    "duration": 13,
    "start_time": "2022-07-08T07:35:10.996Z"
   },
   {
    "duration": 45,
    "start_time": "2022-07-08T07:35:11.012Z"
   },
   {
    "duration": 44,
    "start_time": "2022-07-08T07:35:11.058Z"
   },
   {
    "duration": 56,
    "start_time": "2022-07-08T07:35:11.104Z"
   },
   {
    "duration": 50,
    "start_time": "2022-07-08T07:35:11.162Z"
   },
   {
    "duration": 42,
    "start_time": "2022-07-08T07:35:11.213Z"
   },
   {
    "duration": 299,
    "start_time": "2022-07-08T07:35:11.257Z"
   },
   {
    "duration": 254,
    "start_time": "2022-07-08T07:35:11.558Z"
   },
   {
    "duration": 5,
    "start_time": "2022-07-08T07:35:11.815Z"
   },
   {
    "duration": 975,
    "start_time": "2022-07-08T07:35:11.822Z"
   },
   {
    "duration": 298,
    "start_time": "2022-07-08T07:35:12.800Z"
   },
   {
    "duration": 3,
    "start_time": "2022-07-08T07:35:13.101Z"
   },
   {
    "duration": 291,
    "start_time": "2022-07-08T07:35:13.106Z"
   },
   {
    "duration": 6,
    "start_time": "2022-07-08T07:35:13.400Z"
   },
   {
    "duration": 22,
    "start_time": "2022-07-08T07:35:13.408Z"
   },
   {
    "duration": 289,
    "start_time": "2022-07-08T07:35:13.432Z"
   },
   {
    "duration": 7,
    "start_time": "2022-07-08T07:35:13.723Z"
   },
   {
    "duration": 29,
    "start_time": "2022-07-08T07:35:13.731Z"
   },
   {
    "duration": 14,
    "start_time": "2022-07-08T07:35:13.762Z"
   },
   {
    "duration": 23,
    "start_time": "2022-07-08T07:35:13.778Z"
   },
   {
    "duration": 37,
    "start_time": "2022-07-08T07:35:13.803Z"
   },
   {
    "duration": 129,
    "start_time": "2022-07-08T07:35:13.842Z"
   },
   {
    "duration": 29,
    "start_time": "2022-07-08T07:35:13.972Z"
   },
   {
    "duration": 18,
    "start_time": "2022-07-08T07:35:14.003Z"
   },
   {
    "duration": 15,
    "start_time": "2022-07-08T07:35:14.022Z"
   },
   {
    "duration": 260,
    "start_time": "2022-07-08T07:35:14.040Z"
   },
   {
    "duration": 4,
    "start_time": "2022-07-08T07:35:14.301Z"
   },
   {
    "duration": 119,
    "start_time": "2022-07-08T07:35:14.306Z"
   },
   {
    "duration": 183,
    "start_time": "2022-07-08T07:35:14.426Z"
   },
   {
    "duration": 998,
    "start_time": "2022-07-08T07:35:14.611Z"
   },
   {
    "duration": 3633,
    "start_time": "2022-07-08T07:35:15.700Z"
   },
   {
    "duration": 14277,
    "start_time": "2022-07-08T07:35:19.335Z"
   },
   {
    "duration": 68,
    "start_time": "2022-07-08T07:35:33.614Z"
   },
   {
    "duration": 17,
    "start_time": "2022-07-08T07:35:33.684Z"
   },
   {
    "duration": 13,
    "start_time": "2022-07-08T07:35:33.703Z"
   },
   {
    "duration": 2451,
    "start_time": "2022-07-08T07:35:33.717Z"
   },
   {
    "duration": 7739,
    "start_time": "2022-07-08T07:35:36.170Z"
   },
   {
    "duration": 64,
    "start_time": "2022-07-08T07:36:24.247Z"
   },
   {
    "duration": 14,
    "start_time": "2022-07-08T07:36:49.233Z"
   },
   {
    "duration": 397,
    "start_time": "2022-07-08T07:37:08.416Z"
   },
   {
    "duration": 3668,
    "start_time": "2022-07-08T07:37:49.825Z"
   },
   {
    "duration": 3803,
    "start_time": "2022-07-08T08:22:18.288Z"
   },
   {
    "duration": 5971,
    "start_time": "2022-07-08T08:22:35.369Z"
   },
   {
    "duration": 74171,
    "start_time": "2022-07-08T08:24:28.121Z"
   },
   {
    "duration": 8,
    "start_time": "2022-07-08T08:29:46.436Z"
   },
   {
    "duration": 1807545,
    "start_time": "2022-07-08T08:30:14.264Z"
   },
   {
    "duration": 51,
    "start_time": "2022-07-08T09:03:15.615Z"
   },
   {
    "duration": 12,
    "start_time": "2022-07-08T09:03:25.044Z"
   },
   {
    "duration": 37,
    "start_time": "2022-07-08T09:04:15.514Z"
   },
   {
    "duration": 143,
    "start_time": "2022-07-08T09:08:59.078Z"
   },
   {
    "duration": 12,
    "start_time": "2022-07-08T09:09:07.059Z"
   },
   {
    "duration": 16,
    "start_time": "2022-07-08T09:09:41.685Z"
   },
   {
    "duration": 14,
    "start_time": "2022-07-08T09:09:55.907Z"
   },
   {
    "duration": 12,
    "start_time": "2022-07-08T09:11:18.878Z"
   },
   {
    "duration": 159,
    "start_time": "2022-07-08T09:11:57.559Z"
   },
   {
    "duration": 15,
    "start_time": "2022-07-08T09:12:09.060Z"
   },
   {
    "duration": 3,
    "start_time": "2022-07-08T09:15:09.884Z"
   },
   {
    "duration": 56,
    "start_time": "2022-07-08T09:18:06.596Z"
   },
   {
    "duration": 55,
    "start_time": "2022-07-08T09:18:22.293Z"
   },
   {
    "duration": 68,
    "start_time": "2022-07-08T09:19:01.206Z"
   },
   {
    "duration": 114,
    "start_time": "2022-07-08T09:19:16.101Z"
   },
   {
    "duration": 31,
    "start_time": "2022-07-08T09:22:51.744Z"
   },
   {
    "duration": 71,
    "start_time": "2022-07-08T09:27:26.161Z"
   },
   {
    "duration": 57,
    "start_time": "2022-07-08T09:28:54.185Z"
   },
   {
    "duration": 2,
    "start_time": "2022-07-08T09:33:36.747Z"
   },
   {
    "duration": 57,
    "start_time": "2022-07-08T09:33:53.219Z"
   },
   {
    "duration": 3,
    "start_time": "2022-07-08T09:33:58.028Z"
   },
   {
    "duration": 1108,
    "start_time": "2022-07-08T09:34:45.802Z"
   },
   {
    "duration": 1453,
    "start_time": "2022-07-08T09:35:04.953Z"
   },
   {
    "duration": 9,
    "start_time": "2022-07-08T09:38:29.086Z"
   },
   {
    "duration": 1473,
    "start_time": "2022-07-08T09:38:34.706Z"
   },
   {
    "duration": 36,
    "start_time": "2022-07-08T09:38:36.181Z"
   },
   {
    "duration": 13,
    "start_time": "2022-07-08T09:38:36.219Z"
   },
   {
    "duration": 11,
    "start_time": "2022-07-08T09:38:36.234Z"
   },
   {
    "duration": 3,
    "start_time": "2022-07-08T09:38:36.247Z"
   },
   {
    "duration": 10,
    "start_time": "2022-07-08T09:38:36.252Z"
   },
   {
    "duration": 7,
    "start_time": "2022-07-08T09:38:36.264Z"
   },
   {
    "duration": 28,
    "start_time": "2022-07-08T09:38:36.273Z"
   },
   {
    "duration": 254,
    "start_time": "2022-07-08T09:38:36.302Z"
   },
   {
    "duration": 266,
    "start_time": "2022-07-08T09:38:36.559Z"
   },
   {
    "duration": 4,
    "start_time": "2022-07-08T09:38:36.827Z"
   },
   {
    "duration": 964,
    "start_time": "2022-07-08T09:38:36.833Z"
   },
   {
    "duration": 305,
    "start_time": "2022-07-08T09:38:37.798Z"
   },
   {
    "duration": 3,
    "start_time": "2022-07-08T09:38:38.105Z"
   },
   {
    "duration": 300,
    "start_time": "2022-07-08T09:38:38.109Z"
   },
   {
    "duration": 4,
    "start_time": "2022-07-08T09:38:38.410Z"
   },
   {
    "duration": 8,
    "start_time": "2022-07-08T09:38:38.416Z"
   },
   {
    "duration": 267,
    "start_time": "2022-07-08T09:38:38.425Z"
   },
   {
    "duration": 8,
    "start_time": "2022-07-08T09:38:38.694Z"
   },
   {
    "duration": 16,
    "start_time": "2022-07-08T09:38:38.704Z"
   },
   {
    "duration": 23,
    "start_time": "2022-07-08T09:38:38.721Z"
   },
   {
    "duration": 12,
    "start_time": "2022-07-08T09:38:38.746Z"
   },
   {
    "duration": 9,
    "start_time": "2022-07-08T09:38:38.759Z"
   },
   {
    "duration": 119,
    "start_time": "2022-07-08T09:38:38.770Z"
   },
   {
    "duration": 39,
    "start_time": "2022-07-08T09:38:38.891Z"
   },
   {
    "duration": 17,
    "start_time": "2022-07-08T09:38:38.931Z"
   },
   {
    "duration": 3,
    "start_time": "2022-07-08T09:38:38.949Z"
   },
   {
    "duration": 19,
    "start_time": "2022-07-08T09:38:38.956Z"
   },
   {
    "duration": 25,
    "start_time": "2022-07-08T09:38:38.976Z"
   },
   {
    "duration": 74,
    "start_time": "2022-07-08T09:38:39.003Z"
   },
   {
    "duration": 3,
    "start_time": "2022-07-08T09:38:39.079Z"
   },
   {
    "duration": 124,
    "start_time": "2022-07-08T09:38:39.084Z"
   },
   {
    "duration": 17,
    "start_time": "2022-07-08T09:38:39.210Z"
   },
   {
    "duration": 699,
    "start_time": "2022-07-08T09:38:39.301Z"
   },
   {
    "duration": 3578,
    "start_time": "2022-07-08T09:38:40.004Z"
   },
   {
    "duration": 5486,
    "start_time": "2022-07-08T09:38:43.584Z"
   },
   {
    "duration": 3,
    "start_time": "2022-07-08T09:38:49.071Z"
   },
   {
    "duration": 69651,
    "start_time": "2022-07-08T09:38:49.076Z"
   },
   {
    "duration": 2,
    "start_time": "2022-07-08T09:39:58.729Z"
   },
   {
    "duration": 576,
    "start_time": "2022-07-08T09:39:58.733Z"
   },
   {
    "duration": 1791,
    "start_time": "2022-07-08T09:39:59.311Z"
   },
   {
    "duration": 9,
    "start_time": "2022-07-08T09:40:01.106Z"
   },
   {
    "duration": 10,
    "start_time": "2022-07-08T09:43:36.396Z"
   },
   {
    "duration": 112,
    "start_time": "2022-07-08T09:53:10.641Z"
   },
   {
    "duration": 1701,
    "start_time": "2022-07-08T09:53:16.108Z"
   },
   {
    "duration": 1629,
    "start_time": "2022-07-08T09:54:17.892Z"
   },
   {
    "duration": 1658,
    "start_time": "2022-07-08T09:55:04.547Z"
   },
   {
    "duration": 1476,
    "start_time": "2022-07-08T09:55:22.629Z"
   },
   {
    "duration": 1438,
    "start_time": "2022-07-08T09:55:31.062Z"
   },
   {
    "duration": 1467,
    "start_time": "2022-07-08T09:57:47.444Z"
   },
   {
    "duration": 106,
    "start_time": "2022-07-08T10:47:37.599Z"
   },
   {
    "duration": 160,
    "start_time": "2022-07-08T10:48:26.887Z"
   },
   {
    "duration": 591,
    "start_time": "2022-07-08T10:50:07.511Z"
   },
   {
    "duration": 439,
    "start_time": "2022-07-08T10:50:23.669Z"
   },
   {
    "duration": 27,
    "start_time": "2022-07-08T10:51:33.669Z"
   },
   {
    "duration": 28,
    "start_time": "2022-07-08T10:52:13.449Z"
   },
   {
    "duration": 33,
    "start_time": "2022-07-08T10:53:29.621Z"
   },
   {
    "duration": 29,
    "start_time": "2022-07-08T10:53:48.532Z"
   },
   {
    "duration": 9115,
    "start_time": "2022-07-08T10:54:58.803Z"
   },
   {
    "duration": 15,
    "start_time": "2022-07-08T10:56:30.138Z"
   },
   {
    "duration": 241230,
    "start_time": "2022-07-08T11:01:25.279Z"
   },
   {
    "duration": 47,
    "start_time": "2022-07-08T11:28:54.150Z"
   },
   {
    "duration": 868348,
    "start_time": "2022-07-08T11:29:00.859Z"
   },
   {
    "duration": 3,
    "start_time": "2022-07-08T11:56:02.940Z"
   },
   {
    "duration": 249726,
    "start_time": "2022-07-08T11:57:11.540Z"
   },
   {
    "duration": 2390,
    "start_time": "2022-07-08T12:13:55.530Z"
   },
   {
    "duration": 11,
    "start_time": "2022-07-08T12:14:04.035Z"
   },
   {
    "duration": 1284,
    "start_time": "2022-07-08T12:14:26.151Z"
   },
   {
    "duration": 39,
    "start_time": "2022-07-08T12:14:27.436Z"
   },
   {
    "duration": 13,
    "start_time": "2022-07-08T12:14:27.476Z"
   },
   {
    "duration": 19,
    "start_time": "2022-07-08T12:14:27.490Z"
   },
   {
    "duration": 3,
    "start_time": "2022-07-08T12:14:27.511Z"
   },
   {
    "duration": 14,
    "start_time": "2022-07-08T12:14:27.516Z"
   },
   {
    "duration": 14,
    "start_time": "2022-07-08T12:14:27.531Z"
   },
   {
    "duration": 6,
    "start_time": "2022-07-08T12:14:27.546Z"
   },
   {
    "duration": 257,
    "start_time": "2022-07-08T12:14:27.554Z"
   },
   {
    "duration": 245,
    "start_time": "2022-07-08T12:14:27.813Z"
   },
   {
    "duration": 5,
    "start_time": "2022-07-08T12:14:28.059Z"
   },
   {
    "duration": 938,
    "start_time": "2022-07-08T12:14:28.066Z"
   },
   {
    "duration": 288,
    "start_time": "2022-07-08T12:14:29.006Z"
   },
   {
    "duration": 4,
    "start_time": "2022-07-08T12:14:29.297Z"
   },
   {
    "duration": 269,
    "start_time": "2022-07-08T12:14:29.302Z"
   },
   {
    "duration": 5,
    "start_time": "2022-07-08T12:14:29.572Z"
   },
   {
    "duration": 16,
    "start_time": "2022-07-08T12:14:29.578Z"
   },
   {
    "duration": 255,
    "start_time": "2022-07-08T12:14:29.595Z"
   },
   {
    "duration": 2055,
    "start_time": "2022-07-08T12:14:29.851Z"
   },
   {
    "duration": 96,
    "start_time": "2022-07-08T12:14:31.908Z"
   },
   {
    "duration": 113,
    "start_time": "2022-07-08T12:14:32.006Z"
   },
   {
    "duration": 12,
    "start_time": "2022-07-08T12:14:32.121Z"
   },
   {
    "duration": 10,
    "start_time": "2022-07-08T12:14:32.134Z"
   },
   {
    "duration": 28,
    "start_time": "2022-07-08T12:14:32.146Z"
   },
   {
    "duration": 42,
    "start_time": "2022-07-08T12:14:32.175Z"
   },
   {
    "duration": 14,
    "start_time": "2022-07-08T12:14:32.219Z"
   },
   {
    "duration": 5,
    "start_time": "2022-07-08T12:14:32.235Z"
   },
   {
    "duration": 32,
    "start_time": "2022-07-08T12:14:32.241Z"
   },
   {
    "duration": 3,
    "start_time": "2022-07-08T12:14:32.274Z"
   },
   {
    "duration": 12,
    "start_time": "2022-07-08T12:14:32.279Z"
   },
   {
    "duration": 210,
    "start_time": "2022-07-08T12:14:32.293Z"
   },
   {
    "duration": 496,
    "start_time": "2022-07-08T12:14:32.505Z"
   },
   {
    "duration": 8850,
    "start_time": "2022-07-08T12:14:33.003Z"
   },
   {
    "duration": 3,
    "start_time": "2022-07-08T12:14:41.854Z"
   },
   {
    "duration": 244811,
    "start_time": "2022-07-08T12:14:41.858Z"
   },
   {
    "duration": 3,
    "start_time": "2022-07-08T12:18:46.670Z"
   },
   {
    "duration": 2943,
    "start_time": "2022-07-08T12:18:46.675Z"
   },
   {
    "duration": 88,
    "start_time": "2022-07-08T12:18:49.619Z"
   },
   {
    "duration": 11,
    "start_time": "2022-07-08T12:18:49.709Z"
   },
   {
    "duration": 1396,
    "start_time": "2022-07-08T12:33:42.102Z"
   },
   {
    "duration": 38,
    "start_time": "2022-07-08T12:33:43.500Z"
   },
   {
    "duration": 18,
    "start_time": "2022-07-08T12:33:43.540Z"
   },
   {
    "duration": 13,
    "start_time": "2022-07-08T12:33:43.561Z"
   },
   {
    "duration": 5,
    "start_time": "2022-07-08T12:33:43.576Z"
   },
   {
    "duration": 16,
    "start_time": "2022-07-08T12:33:43.601Z"
   },
   {
    "duration": 8,
    "start_time": "2022-07-08T12:33:43.618Z"
   },
   {
    "duration": 16,
    "start_time": "2022-07-08T12:33:43.627Z"
   },
   {
    "duration": 252,
    "start_time": "2022-07-08T12:33:43.644Z"
   },
   {
    "duration": 305,
    "start_time": "2022-07-08T12:33:43.900Z"
   },
   {
    "duration": 5,
    "start_time": "2022-07-08T12:33:44.207Z"
   },
   {
    "duration": 1026,
    "start_time": "2022-07-08T12:33:44.214Z"
   },
   {
    "duration": 3,
    "start_time": "2022-07-08T12:33:45.242Z"
   },
   {
    "duration": 22,
    "start_time": "2022-07-08T12:33:45.249Z"
   },
   {
    "duration": 320,
    "start_time": "2022-07-08T12:33:45.273Z"
   },
   {
    "duration": 4,
    "start_time": "2022-07-08T12:33:45.600Z"
   },
   {
    "duration": 10,
    "start_time": "2022-07-08T12:33:45.606Z"
   },
   {
    "duration": 284,
    "start_time": "2022-07-08T12:33:45.617Z"
   },
   {
    "duration": 1408,
    "start_time": "2022-07-08T12:33:45.902Z"
   },
   {
    "duration": 93,
    "start_time": "2022-07-08T12:33:47.312Z"
   },
   {
    "duration": 119,
    "start_time": "2022-07-08T12:33:47.407Z"
   },
   {
    "duration": 14,
    "start_time": "2022-07-08T12:33:47.527Z"
   },
   {
    "duration": 7,
    "start_time": "2022-07-08T12:33:47.542Z"
   },
   {
    "duration": 27,
    "start_time": "2022-07-08T12:33:47.551Z"
   },
   {
    "duration": 46,
    "start_time": "2022-07-08T12:33:47.580Z"
   },
   {
    "duration": 15,
    "start_time": "2022-07-08T12:33:47.627Z"
   },
   {
    "duration": 15,
    "start_time": "2022-07-08T12:33:47.644Z"
   },
   {
    "duration": 5,
    "start_time": "2022-07-08T12:33:47.661Z"
   },
   {
    "duration": 10,
    "start_time": "2022-07-08T12:33:47.668Z"
   },
   {
    "duration": 195,
    "start_time": "2022-07-08T12:33:47.680Z"
   },
   {
    "duration": 523,
    "start_time": "2022-07-08T12:33:47.877Z"
   },
   {
    "duration": 9213,
    "start_time": "2022-07-08T12:33:48.406Z"
   },
   {
    "duration": 2,
    "start_time": "2022-07-08T12:33:57.621Z"
   },
   {
    "duration": 247684,
    "start_time": "2022-07-08T12:33:57.625Z"
   },
   {
    "duration": 3,
    "start_time": "2022-07-08T12:38:05.311Z"
   },
   {
    "duration": 518890,
    "start_time": "2022-07-08T12:38:05.315Z"
   },
   {
    "duration": 9,
    "start_time": "2022-07-08T12:46:44.207Z"
   },
   {
    "duration": 13,
    "start_time": "2022-07-08T12:46:44.218Z"
   },
   {
    "duration": 52,
    "start_time": "2022-07-09T13:08:51.628Z"
   },
   {
    "duration": 1799,
    "start_time": "2022-07-09T13:08:59.961Z"
   },
   {
    "duration": 88,
    "start_time": "2022-07-09T13:09:01.762Z"
   },
   {
    "duration": 14,
    "start_time": "2022-07-09T13:09:01.852Z"
   },
   {
    "duration": 15,
    "start_time": "2022-07-09T13:09:01.868Z"
   },
   {
    "duration": 11,
    "start_time": "2022-07-09T13:09:01.884Z"
   },
   {
    "duration": 31,
    "start_time": "2022-07-09T13:09:01.897Z"
   },
   {
    "duration": 13,
    "start_time": "2022-07-09T13:09:01.930Z"
   },
   {
    "duration": 23,
    "start_time": "2022-07-09T13:09:01.945Z"
   },
   {
    "duration": 297,
    "start_time": "2022-07-09T13:09:01.970Z"
   },
   {
    "duration": 256,
    "start_time": "2022-07-09T13:09:02.269Z"
   },
   {
    "duration": 6,
    "start_time": "2022-07-09T13:09:02.526Z"
   },
   {
    "duration": 951,
    "start_time": "2022-07-09T13:09:02.533Z"
   },
   {
    "duration": 543,
    "start_time": "2022-07-09T13:09:03.487Z"
   },
   {
    "duration": 3,
    "start_time": "2022-07-09T13:09:04.032Z"
   },
   {
    "duration": 330,
    "start_time": "2022-07-09T13:09:04.047Z"
   },
   {
    "duration": 5,
    "start_time": "2022-07-09T13:09:04.379Z"
   },
   {
    "duration": 9,
    "start_time": "2022-07-09T13:09:04.385Z"
   },
   {
    "duration": 373,
    "start_time": "2022-07-09T13:09:04.396Z"
   },
   {
    "duration": 1976,
    "start_time": "2022-07-09T13:09:04.771Z"
   },
   {
    "duration": 8,
    "start_time": "2022-07-09T13:09:06.750Z"
   },
   {
    "duration": 108,
    "start_time": "2022-07-09T13:09:06.760Z"
   },
   {
    "duration": 14,
    "start_time": "2022-07-09T13:09:06.870Z"
   },
   {
    "duration": 4,
    "start_time": "2022-07-09T13:09:06.886Z"
   },
   {
    "duration": 25,
    "start_time": "2022-07-09T13:09:06.891Z"
   },
   {
    "duration": 60,
    "start_time": "2022-07-09T13:09:06.918Z"
   },
   {
    "duration": 18,
    "start_time": "2022-07-09T13:09:06.980Z"
   },
   {
    "duration": 17,
    "start_time": "2022-07-09T13:09:07.000Z"
   },
   {
    "duration": 3,
    "start_time": "2022-07-09T13:09:07.021Z"
   },
   {
    "duration": 27,
    "start_time": "2022-07-09T13:09:07.025Z"
   },
   {
    "duration": 184,
    "start_time": "2022-07-09T13:09:07.053Z"
   },
   {
    "duration": 600,
    "start_time": "2022-07-09T13:09:07.245Z"
   },
   {
    "duration": 9702,
    "start_time": "2022-07-09T13:09:07.848Z"
   },
   {
    "duration": 3,
    "start_time": "2022-07-09T13:09:17.553Z"
   },
   {
    "duration": 248263,
    "start_time": "2022-07-09T13:09:17.558Z"
   },
   {
    "duration": 4,
    "start_time": "2022-07-09T13:13:25.823Z"
   },
   {
    "duration": 47334,
    "start_time": "2022-07-09T13:13:25.828Z"
   },
   {
    "duration": 85,
    "start_time": "2022-07-09T13:14:13.164Z"
   },
   {
    "duration": 13,
    "start_time": "2022-07-09T13:14:13.251Z"
   },
   {
    "duration": 108,
    "start_time": "2022-07-09T13:40:30.242Z"
   }
  ],
  "accelerator": "TPU",
  "colab": {
   "collapsed_sections": [],
   "name": "never gonna give you up.ipynb\"",
   "provenance": []
  },
  "gpuClass": "standard",
  "kernelspec": {
   "display_name": "Python 3 (ipykernel)",
   "language": "python",
   "name": "python3"
  },
  "language_info": {
   "codemirror_mode": {
    "name": "ipython",
    "version": 3
   },
   "file_extension": ".py",
   "mimetype": "text/x-python",
   "name": "python",
   "nbconvert_exporter": "python",
   "pygments_lexer": "ipython3",
   "version": "3.9.7"
  },
  "toc": {
   "base_numbering": 1,
   "nav_menu": {},
   "number_sections": true,
   "sideBar": true,
   "skip_h1_title": true,
   "title_cell": "Содержание",
   "title_sidebar": "Contents",
   "toc_cell": true,
   "toc_position": {
    "height": "calc(100% - 180px)",
    "left": "10px",
    "top": "150px",
    "width": "366.594px"
   },
   "toc_section_display": true,
   "toc_window_display": false
  }
 },
 "nbformat": 4,
 "nbformat_minor": 0
}